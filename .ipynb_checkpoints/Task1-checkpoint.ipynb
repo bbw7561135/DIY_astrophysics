{
 "cells": [
  {
   "cell_type": "markdown",
   "metadata": {},
   "source": [
    "# Task 1\n",
    "\n",
    "Imagine a test particle (initially at $R_0$) falling to a star (with radius $A$ and mass $M$), the radial infall follows the equation\n",
    "\n",
    "$$\n",
    "\\ddot{R}=-\\frac{GM}{R^2}, \\text{ where }0<R\\le r\\le R_0\n",
    "$$\n",
    "\n",
    "For the numerical convenience, we normalize all the parameters\n",
    "\n",
    "$$\n",
    "r=R/R_0\\in[A/R_0,\\ 1],\\quad \\tau=\\frac{t}{\\sqrt{{R_0^3}/{GM}}}\n",
    "$$\n",
    "\n",
    "and thus we have\n",
    "\n",
    "$$\n",
    "\\frac{\\text{d}^2r}{\\text{d}\\tau^2}=-\\frac{1}{r^2}, \\text{ where }r(\\tau=0)=1\n",
    "$$"
   ]
  },
  {
   "cell_type": "markdown",
   "metadata": {},
   "source": [
    "To numerically solve the equation, we turn it into one order ODEs\n",
    "\n",
    "$$\n",
    "\\frac{\\text{d}r}{\\text{d}\\tau}=v\\\\\n",
    "\\frac{\\text{d}v}{\\text{d}\\tau}=-\\frac{1}{r^2}\n",
    "$$\n",
    "\n",
    "and solve them with RK8 method"
   ]
  },
  {
   "cell_type": "code",
   "execution_count": 1,
   "metadata": {
    "ExecuteTime": {
     "end_time": "2020-02-20T14:34:20.176901Z",
     "start_time": "2020-02-20T14:34:20.170088Z"
    }
   },
   "outputs": [],
   "source": [
    "import os"
   ]
  },
  {
   "cell_type": "code",
   "execution_count": 2,
   "metadata": {
    "ExecuteTime": {
     "end_time": "2020-02-20T14:34:33.724945Z",
     "start_time": "2020-02-20T14:34:20.184536Z"
    }
   },
   "outputs": [
    {
     "data": {
      "text/plain": [
       "0"
      ]
     },
     "execution_count": 2,
     "metadata": {},
     "output_type": "execute_result"
    }
   ],
   "source": [
    "os.system('make')\n",
    "os.system('./RadialInfall')"
   ]
  },
  {
   "cell_type": "code",
   "execution_count": 3,
   "metadata": {
    "ExecuteTime": {
     "end_time": "2020-02-20T14:34:34.284397Z",
     "start_time": "2020-02-20T14:34:33.729304Z"
    }
   },
   "outputs": [],
   "source": [
    "import numpy as np\n",
    "import matplotlib.pyplot as plt"
   ]
  },
  {
   "cell_type": "code",
   "execution_count": 4,
   "metadata": {
    "ExecuteTime": {
     "end_time": "2020-02-20T14:34:34.482935Z",
     "start_time": "2020-02-20T14:34:34.286317Z"
    }
   },
   "outputs": [],
   "source": [
    "raw1 = np.loadtxt('R_V')\n",
    "t, r, v = raw1[:, 0], raw1[:, 1], raw1[:, 2]"
   ]
  },
  {
   "cell_type": "code",
   "execution_count": 5,
   "metadata": {
    "ExecuteTime": {
     "end_time": "2020-02-20T14:34:34.752650Z",
     "start_time": "2020-02-20T14:34:34.484901Z"
    }
   },
   "outputs": [
    {
     "data": {
      "text/plain": [
       "[<matplotlib.lines.Line2D at 0x118eb9198>]"
      ]
     },
     "execution_count": 5,
     "metadata": {},
     "output_type": "execute_result"
    },
    {
     "data": {
      "image/png": "[encoded data removed]",
      "text/plain": [
       "<Figure size 432x288 with 1 Axes>"
      ]
     },
     "metadata": {
      "needs_background": "light"
     },
     "output_type": "display_data"
    }
   ],
   "source": [
    "plt.plot(t, r)"
   ]
  },
  {
   "cell_type": "code",
   "execution_count": 9,
   "metadata": {
    "ExecuteTime": {
     "end_time": "2020-02-20T14:35:05.902633Z",
     "start_time": "2020-02-20T14:35:05.649590Z"
    }
   },
   "outputs": [
    {
     "data": {
      "image/png": "[encoded data removed]",
      "text/plain": [
       "<Figure size 432x288 with 1 Axes>"
      ]
     },
     "metadata": {
      "needs_background": "light"
     },
     "output_type": "display_data"
    }
   ],
   "source": [
    "plt.plot(t, abs(0.5*v**2-1/r))\n",
    "plt.yscale('log')"
   ]
  },
  {
   "cell_type": "code",
   "execution_count": 7,
   "metadata": {
    "ExecuteTime": {
     "end_time": "2020-02-20T14:34:34.970061Z",
     "start_time": "2020-02-20T14:34:34.961627Z"
    }
   },
   "outputs": [
    {
     "data": {
      "text/plain": [
       "array([1.        , 1.        , 1.        , ..., 0.00402972, 0.00282215,\n",
       "       0.00124573])"
      ]
     },
     "execution_count": 7,
     "metadata": {},
     "output_type": "execute_result"
    }
   ],
   "source": [
    "r"
   ]
  },
  {
   "cell_type": "code",
   "execution_count": 10,
   "metadata": {
    "ExecuteTime": {
     "end_time": "2020-02-20T14:35:30.178492Z",
     "start_time": "2020-02-20T14:35:30.170410Z"
    }
   },
   "outputs": [
    {
     "data": {
      "text/plain": [
       "array([0.00000e+00, 5.00000e-05, 1.00000e-04, ..., 1.11060e+00,\n",
       "       1.11065e+00, 1.11070e+00])"
      ]
     },
     "execution_count": 10,
     "metadata": {},
     "output_type": "execute_result"
    }
   ],
   "source": [
    "t"
   ]
  },
  {
   "cell_type": "code",
   "execution_count": null,
   "metadata": {},
   "outputs": [],
   "source": []
  }
 ],
 "metadata": {
  "kernelspec": {
   "display_name": "Python 3",
   "language": "python",
   "name": "python3"
  },
  "language_info": {
   "codemirror_mode": {
    "name": "ipython",
    "version": 3
   },
   "file_extension": ".py",
   "mimetype": "text/x-python",
   "name": "python",
   "nbconvert_exporter": "python",
   "pygments_lexer": "ipython3",
   "version": "3.7.1"
  }
 },
 "nbformat": 4,
 "nbformat_minor": 2
}
