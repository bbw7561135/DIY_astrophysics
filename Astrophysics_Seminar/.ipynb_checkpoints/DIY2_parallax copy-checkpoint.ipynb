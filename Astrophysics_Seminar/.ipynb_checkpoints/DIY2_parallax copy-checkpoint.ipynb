{
 "cells": [
  {
   "cell_type": "markdown",
   "metadata": {
    "ExecuteTime": {
     "end_time": "2020-04-14T06:50:02.948355Z",
     "start_time": "2020-04-14T06:50:02.945132Z"
    }
   },
   "source": [
    "# 视差法测量昴星团的距离\n",
    "\n",
    "刘畅 1600012139"
   ]
  },
  {
   "cell_type": "code",
   "execution_count": null,
   "metadata": {
    "ExecuteTime": {
     "end_time": "2020-04-21T23:26:02.063133Z",
     "start_time": "2020-04-21T23:26:00.015657Z"
    }
   },
   "outputs": [],
   "source": [
    "import numpy as np\n",
    "from yt.units import *\n",
    "import matplotlib.pyplot as plt\n",
    "from scipy.optimize import fsolve"
   ]
  },
  {
   "cell_type": "markdown",
   "metadata": {},
   "source": [
    "## 地球轨道参数"
   ]
  },
  {
   "cell_type": "markdown",
   "metadata": {},
   "source": [
    "Julian Date of Vernal Equinox at 2000: 2451623.815972\n",
    "\n",
    "Julian Date of Perihelion at 2000 : 2451546.708333\n",
    "\n",
    "Earth Orbital Period : 365.25 days\n",
    "\n",
    "Earth Obliquity : 23.44 deg\n",
    "\n",
    "Orbit eccentricity : 0.0167"
   ]
  },
  {
   "cell_type": "markdown",
   "metadata": {},
   "source": [
    "首先，我们希望知道，给定时间 $T$，地球在黄道面上的位置，为此我们以黄道面为坐标平面，太阳为坐标原点，地球轨道的长轴为$x$轴，地球近日点处 $x=a(1-e)>0$，这里 $a=1$ AU 是轨道半长轴，$e=0.0167$ 是轨道离心率"
   ]
  },
  {
   "cell_type": "code",
   "execution_count": null,
   "metadata": {
    "ExecuteTime": {
     "end_time": "2020-04-21T23:26:02.079710Z",
     "start_time": "2020-04-21T23:26:02.066252Z"
    }
   },
   "outputs": [],
   "source": [
    "a = AU\n",
    "e = 0.0167"
   ]
  },
  {
   "cell_type": "markdown",
   "metadata": {},
   "source": [
    "对于偏近点角 $\\psi$，我们知道\n",
    "\n",
    "$$\n",
    "\\psi-e\\sin\\psi=\\frac{2\\pi}{P} (T-T_P)\n",
    "$$\n",
    "\n",
    "这里的 $T_P$ 是地球过近日点的时刻，可以取为 $2451546.708333$ d，$P=365.25$ d 则是一个恒星年"
   ]
  },
  {
   "cell_type": "code",
   "execution_count": null,
   "metadata": {
    "ExecuteTime": {
     "end_time": "2020-04-21T23:26:02.104920Z",
     "start_time": "2020-04-21T23:26:02.083698Z"
    }
   },
   "outputs": [],
   "source": [
    "TP = 2451546.708333 * day\n",
    "P = 365.25 * day"
   ]
  },
  {
   "cell_type": "markdown",
   "metadata": {},
   "source": [
    "虽然无法用 $T$ 解析地表示出 $\\psi$，但原则上依然可以用简单的几何关系得到地球的坐标\n",
    "\n",
    "$$\n",
    "x=a(\\cos\\psi(T)-e),\\quad y=a\\sqrt{1-e^2}\\sin\\psi(T)\n",
    "$$\n",
    "\n",
    "如图"
   ]
  },
  {
   "cell_type": "code",
   "execution_count": null,
   "metadata": {
    "ExecuteTime": {
     "end_time": "2020-04-21T23:26:02.440383Z",
     "start_time": "2020-04-21T23:26:02.111280Z"
    }
   },
   "outputs": [],
   "source": [
    "def psi_t(t, T0=0):\n",
    "    theta = t * np.pi * 2 / P\n",
    "    Psi = lambda psi: psi - e * np.sin(psi) - theta\n",
    "    return fsolve(Psi, [theta])\n",
    "\n",
    "def test_psi(e=0.0167):\n",
    "    T_test = np.linspace(0, P, 50)\n",
    "    psi = np.array([])\n",
    "    for t in T_test:\n",
    "        psi = np.append(psi, psi_t(t))\n",
    "    X = a * (np.cos(psi) - e)\n",
    "    Y = a * (np.sqrt(1 - e**2) * np.sin(psi))\n",
    "    plt.scatter(X, Y, label='e={}'.format(e))\n",
    "    plt.axis('equal')\n",
    "    plt.scatter([0],[0])\n",
    "\n",
    "'''plt.figure(figsize=(6,6))    \n",
    "test_psi(e=0.5)\n",
    "test_psi()\n",
    "plt.xlabel('X (AU)')\n",
    "plt.ylabel('Y (AU)')\n",
    "plt.legend()\n",
    "plt.show()'''"
   ]
  },
  {
   "cell_type": "markdown",
   "metadata": {},
   "source": [
    "##  黄道坐标与赤道坐标的转化"
   ]
  },
  {
   "cell_type": "code",
   "execution_count": null,
   "metadata": {
    "ExecuteTime": {
     "end_time": "2020-04-21T23:26:02.512438Z",
     "start_time": "2020-04-21T23:26:02.444960Z"
    }
   },
   "outputs": [],
   "source": [
    "from mpl_toolkits.mplot3d import Axes3D"
   ]
  },
  {
   "cell_type": "markdown",
   "metadata": {},
   "source": [
    "由于黄赤交角 ($E=23.44$ deg) 的存在，赤道面和黄道面是不重合的。我们对恒星视差的测量在赤道坐标系中进行，因此，我们有必要将地球在黄道面上的位置转化为太阳在赤道坐标上的位置。\n",
    "\n",
    "一个重要的参数是在黄道坐标系中，近日点处地球的方向与春分点处的夹角 $\\Delta$ (春分点处的真近点角)。给定两者的时间差 $\\Delta T$ 之后，首先可以计算出春分点处地球的坐标 $(x(\\Delta T),y(\\Delta T))$，从而求出对应的真近点角。"
   ]
  },
  {
   "cell_type": "code",
   "execution_count": null,
   "metadata": {
    "ExecuteTime": {
     "end_time": "2020-04-21T23:26:02.527905Z",
     "start_time": "2020-04-21T23:26:02.514533Z"
    }
   },
   "outputs": [],
   "source": [
    "E = 23.44 * degree\n",
    "TE = 2451623.815972 * day\n",
    "DeltaT = TE - TP\n",
    "xE = a * (np.cos(psi_t(DeltaT)) - e)\n",
    "yE = a * (np.sqrt(1 - e**2) * np.sin(psi_t(DeltaT)))\n",
    "Delta = np.arctan2(yE, xE)\n",
    "print('Psi = {:.4f} radian'.format(float(Delta / np.pi * 180)))"
   ]
  },
  {
   "cell_type": "markdown",
   "metadata": {},
   "source": [
    "在进行黄道平面到赤道平面的转换之前，先将坐标原点由太阳变为地球，$x$ 轴依然为半长轴。为了保证地球位于近日点时太阳坐标 $x>0$，需要将原先的 $x$ 轴和 $y$ 轴反向，所以在这个新的坐标系中，$T_P+\\Delta T$ 时刻太阳的坐标恰为 $(x(\\Delta T),y(\\Delta T))$。\n",
    "\n",
    "从而可以将每个 $(x,y)$ 顺时针旋转 $\\Delta$，得到同样在黄道平面上的以地球为原点，但以子午线为 $x$ 轴，春分点 $x'_E>0$ 的坐标系下的坐标 $(x',y')$\n",
    "\n",
    "$$\n",
    "x' = x\\cos \\Delta+y\\sin\\Delta,\\quad y'=-x\\sin\\Delta+y\\cos\\Delta\n",
    "$$\n",
    "\n",
    "最后将 $(x',y',0)$ 绕 $x'$ 轴逆时针旋转 $E$，得到$T$ 时刻太阳在赤道坐标系中的位置 $(x_S,y_E,z_E)$\n",
    "\n",
    "$$\n",
    "x_E=x',\\quad y_E=y'\\cos E,\\quad z_E=y'\\sin E\n",
    "$$"
   ]
  },
  {
   "cell_type": "code",
   "execution_count": null,
   "metadata": {
    "ExecuteTime": {
     "end_time": "2020-04-21T23:26:02.544377Z",
     "start_time": "2020-04-21T23:26:02.531582Z"
    }
   },
   "outputs": [],
   "source": [
    "def xyzE_t(t, T0=0):\n",
    "    theta = t * np.pi * 2 / P\n",
    "    Psi = lambda psi: psi - e * np.sin(psi) - theta\n",
    "    psi = fsolve(Psi, [theta])\n",
    "    X = a * (np.cos(psi) - e)\n",
    "    Y = a * (np.sqrt(1 - e**2) * np.sin(psi))\n",
    "    XE = (X * np.cos(Delta) + Y * np.sin(Delta))\n",
    "    YE = (-X * np.sin(Delta) + Y * np.cos(Delta)) * np.cos(E)\n",
    "    ZE = (-X * np.sin(Delta) + Y * np.cos(Delta)) * np.sin(E)\n",
    "    return (XE, YE, ZE)"
   ]
  },
  {
   "cell_type": "code",
   "execution_count": null,
   "metadata": {
    "ExecuteTime": {
     "end_time": "2020-04-21T23:26:02.562771Z",
     "start_time": "2020-04-21T23:26:02.554369Z"
    }
   },
   "outputs": [],
   "source": [
    "T_test = np.linspace(0, P, 50)\n",
    "XE, YE, ZE = xyzE_t(T_test, T0=TP)"
   ]
  },
  {
   "cell_type": "code",
   "execution_count": null,
   "metadata": {
    "ExecuteTime": {
     "end_time": "2020-04-21T23:26:03.027646Z",
     "start_time": "2020-04-21T23:26:02.567731Z"
    }
   },
   "outputs": [],
   "source": [
    "'''f, ax = plt.subplots(figsize=(10, 10))\n",
    "ax = Axes3D(f)\n",
    "ax.scatter3D(XE, YE, ZE, s=T_test/day)\n",
    "ax.set_xlim(-1, 1)\n",
    "ax.set_ylim(-1, 1)\n",
    "ax.set_zlim(-1, 1)\n",
    "\n",
    "ax.set_xlabel('X (AU)', fontsize=20)\n",
    "ax.set_ylabel('Y (AU)', fontsize=20)\n",
    "ax.set_zlabel('Z (AU)', fontsize=20)'''"
   ]
  },
  {
   "cell_type": "markdown",
   "metadata": {},
   "source": [
    "可以看到在一年之中太阳赤经赤纬的变化"
   ]
  },
  {
   "cell_type": "code",
   "execution_count": null,
   "metadata": {
    "ExecuteTime": {
     "end_time": "2020-04-21T23:26:03.415183Z",
     "start_time": "2020-04-21T23:26:03.031895Z"
    }
   },
   "outputs": [],
   "source": [
    "'''R2 = XE**2 + YE**2 + ZE**2\n",
    "ras = np.arctan2(YE, XE) / np.pi * 12\n",
    "decs = np.arcsin(ZE / np.sqrt(R2)) / np.pi * 180\n",
    "f, ax = plt.subplots(2, 1, figsize=(10, 8), sharex='all')\n",
    "ax[0].scatter(T_test, ras)\n",
    "ax[1].scatter(T_test, decs)\n",
    "ax[0].set_ylabel('RA (h)', fontsize=20)\n",
    "ax[1].set_ylabel('Dec (deg)', fontsize=20)\n",
    "ax[1].set_xlabel('Time since Perihelion (Day)', fontsize=20)'''"
   ]
  },
  {
   "cell_type": "markdown",
   "metadata": {},
   "source": [
    "## 视差的计算"
   ]
  },
  {
   "cell_type": "markdown",
   "metadata": {},
   "source": [
    "恒星在天球上的运动可以拆解为恒星相对于日地参考系 (坐标原点为日地质心，可以简化为太阳，坐标轴方向同赤道坐标系) 的自行和太阳在地球参考系中的周年视运动，后者已经可以表示为 $(x_E,y_E,z_E)(T)$，而前者在恒星到太阳距离为 $D$ 时表示为\n",
    "\n",
    "$$\n",
    "x_{hii,S}=D\\cos \\text{Dec}_S(T)\\cos \\text{RA}_S(T),\\quad y_{hii,S}=D\\cos \\text{Dec}_S(T)\\sin \\text{RA}_S(T), \\quad z_{hii,S}=D\\sin \\text{RA}_S(T)\n",
    "$$\n",
    "\n",
    "我们假设最简单的情形，即恒星的自行 $\\mu_\\alpha,\\mu_\\delta$ 都是常数，则有\n",
    "\n",
    "$$\n",
    "\\text{Dec}_S(T) = \\text{Dec}_S(T_P)+\\mu_\\delta\\Delta T\n",
    "$$\n",
    "\n",
    "$$\n",
    "\\text{RA}_S(T) = \\text{RA}_S(T_P)+\\mu_\\alpha^*\\Delta T\\quad (\\mu_\\alpha^*=\\mu_\\alpha\\cos\\text{Dec}_S(T)\\approx \\mu_\\alpha\\cos\\text{Dec}_S(T_P))\n",
    "$$\n",
    "\n",
    "从而得到\n",
    "\n",
    "$$\n",
    "x_{hii}=D\\cos \\text{Dec}_S(T)\\cos \\text{RA}_S(T)+x_E(T),\\quad y_{hii}=D\\cos \\text{Dec}_S(T)\\sin \\text{RA}_S(T)+y_E(T), \\quad z_{hii}=D\\sin \\text{Dec}_S(T)+z_E(T)\n",
    "$$\n",
    "\n",
    "最终表示出我们的观测量\n",
    "\n",
    "$$\n",
    "\\text{RA}(T) = \\arctan\\frac{y_{hii}}{x_{hii}}\n",
    "$$\n",
    "\n",
    "$$\n",
    "\\text{Dec}(T) = \\arcsin{\\frac{z_{hii}}{\\sqrt{x_{hii}^2+y_{hii}^2+z_{hii}^2}}}\n",
    "$$"
   ]
  },
  {
   "cell_type": "code",
   "execution_count": null,
   "metadata": {
    "ExecuteTime": {
     "end_time": "2020-04-21T23:26:03.438560Z",
     "start_time": "2020-04-21T23:26:03.421384Z"
    }
   },
   "outputs": [],
   "source": [
    "raw = np.loadtxt('hii_625.txt')\n",
    "t = raw[:, 0] * day\n",
    "RA_h = raw[0, 1]\n",
    "RA_m = raw[0, 2]\n",
    "RA_s = raw[:, 3]\n",
    "RAerr = raw[:, 4]\n",
    "Dec_deg = raw[0, 5]\n",
    "Dec_m = raw[0, 6]\n",
    "Dec_s = raw[:, 7]\n",
    "Decerr = raw[:, 8]\n",
    "RAo = (RA_h + RA_m / 60 + RA_s / 3600) / 12 * np.pi # radian\n",
    "Deco = (Dec_deg + Dec_m / 60 + Dec_s / 3600) / 180 * np.pi"
   ]
  },
  {
   "cell_type": "code",
   "execution_count": null,
   "metadata": {
    "ExecuteTime": {
     "end_time": "2020-04-21T23:26:03.474212Z",
     "start_time": "2020-04-21T23:26:03.443021Z"
    }
   },
   "outputs": [],
   "source": [
    "def RA_Dec(theta, t):\n",
    "    D, mua, mud, ras0, decs0 = theta\n",
    "    mua *= arcsec / yr\n",
    "    mud *= arcsec / yr\n",
    "    ras0 *= radian\n",
    "    decs0 *= radian\n",
    "    D *= pc\n",
    "    RAS = (ras0).in_cgs()\n",
    "    DecS = (decs0).in_cgs()\n",
    "    XE, YE, ZE = xyzE_t(t, T0=TP)\n",
    "    XhS, YhS, ZhS = D * np.cos(DecS) * np.cos(RAS), D * np.cos(DecS) * np.sin(\n",
    "        RAS), D * np.sin(DecS)\n",
    "    Xh, Yh, Zh = XE + XhS, YE + YhS, ZE + ZhS\n",
    "    RA = np.arctan2(Yh, Xh) + ((t - TP) * mua/radian).in_cgs()\n",
    "    RA[RA < 0] += np.pi * 2\n",
    "    Dec = np.arcsin(Zh / np.sqrt(Xh**2 + Yh**2 + Zh**2)) + ((t - TP) * mud/radian).in_cgs()\n",
    "    return (RA, Dec)"
   ]
  },
  {
   "cell_type": "markdown",
   "metadata": {},
   "source": [
    "## 拟合"
   ]
  },
  {
   "cell_type": "markdown",
   "metadata": {},
   "source": [
    "对于 HII 625，我们有五个未知参数\n",
    "\n",
    "- 太阳到 HII 625 的距离 $D$\n",
    "- $T_P$ 时的坐标 $\\text{RA}_S(T_P)$ 和 $\\text{Dec}_S(T_P)$\n",
    "- 相对于太阳的自行 $\\mu_\\alpha^*$ 和 $\\mu_\\delta$\n",
    "\n",
    "我们使用 Monte Carlo Markov Chain (MCMC) 作参数估计。"
   ]
  },
  {
   "cell_type": "markdown",
   "metadata": {
    "ExecuteTime": {
     "end_time": "2020-04-16T03:54:01.555944Z",
     "start_time": "2020-04-16T03:54:01.529589Z"
    }
   },
   "source": [
    "### MCMC 拟合"
   ]
  },
  {
   "cell_type": "markdown",
   "metadata": {},
   "source": [
    "MCMC 的核心思想是通过一种特殊的采样方式，使得最后样本在相空间内的分布可以体现模型的各种参数。具体地，我们先要设定参数的联合先验分布和给出的预测值满足的似然函数，在采样之后，样本在相空间内的分布会收敛到一个联合的后验分布，可以通过求取各个参数的边缘分布对参数进行估计。\n",
    "\n",
    "#### 先验分布\n",
    "\n",
    "不妨设各个参数都是独立的，且服从高斯分布。\n",
    "\n",
    "- $D$：*Hipparcos* 给出 $\\sim120$ pc，其他项目大多给出 $\\sim135$ pc，这里我们考虑 $\\mu=130$ pc，$\\sigma=10$ pc。 \n",
    "\n",
    "- $\\text{RA}_S(T_P)$ 和 $\\text{Dec}_S(T_P)$：利用第一个观测数据的坐标作为均值，同时估计自行的量级，发现约为数十个 mas/yr，则在大约 10 年的跨度上，变化不会超过一个角秒，因此取 $\\sigma = 1$ arcsec。"
   ]
  },
  {
   "cell_type": "code",
   "execution_count": null,
   "metadata": {
    "ExecuteTime": {
     "end_time": "2020-04-21T23:26:03.494114Z",
     "start_time": "2020-04-21T23:26:03.478034Z"
    }
   },
   "outputs": [],
   "source": [
    "# RA 上\n",
    "(((RAo[1:]-RAo[0])/(t[1:]-t[0]))*rad).in_units('arcsec/yr')"
   ]
  },
  {
   "cell_type": "code",
   "execution_count": null,
   "metadata": {
    "ExecuteTime": {
     "end_time": "2020-04-21T23:26:03.515880Z",
     "start_time": "2020-04-21T23:26:03.499466Z"
    }
   },
   "outputs": [],
   "source": [
    "# Dec 上\n",
    "(((Deco[1:]-Deco[0])/(t[1:]-t[0]))*rad).in_units('arcsec/yr')"
   ]
  },
  {
   "cell_type": "markdown",
   "metadata": {},
   "source": [
    "- $\\mu_\\alpha^*$ 和 $\\mu_\\delta$：第一组数据和第七组数据前后观测时间恰好约为一年，取此时计算出的总自行作为自行先验分布的均值。根据上述结果，$\\sigma$ 分别取为 5 mas/yr 和 1 mas/yr\n",
    "\n",
    "#### 似然函数\n",
    "\n",
    "先定义一个 $\\chi^2$\n",
    "\n",
    "$$\n",
    "\\chi^2=\\sum_{i=1}^N\\left[\\frac{(\\text{RA}_i-\\text{RA}_{i,model})^2}{\\sigma_{RA,i}^2}+\\frac{(\\text{Dec}_i-\\text{Dec}_{i,model})^2}{\\sigma_{Dec,i}^2}\\right]\n",
    "$$\n",
    "\n",
    "这里的 $\\sigma$ 取观测给出的误差，则似然函数\n",
    "\n",
    "$$\n",
    "\\mathcal{L}=e^{-\\chi^2/2}\\Rightarrow \\ln \\mathcal{L}=-\\frac{\\chi^2}{2}\n",
    "$$\n",
    "\n",
    "对 $\\mathcal{L}$ 最大化，相当于对 $\\chi^2$ 最小化，也可以认为对残差进行了最小化。"
   ]
  },
  {
   "cell_type": "code",
   "execution_count": null,
   "metadata": {
    "ExecuteTime": {
     "end_time": "2020-04-22T04:18:44.343651Z",
     "start_time": "2020-04-22T04:18:44.332562Z"
    }
   },
   "outputs": [],
   "source": [
    "import emcee\n",
    "\n",
    "\n",
    "def log_likelihood(theta, t, RAo, Deco, RAerr, Decerr):\n",
    "    D, mua, mud, ras0, decs0 = theta\n",
    "    ndim = len(theta)\n",
    "    RA, Dec = RA_Dec(theta, t=t.flatten())\n",
    "    ratio = radian / arcsec\n",
    "    dRA = (RAo - RA) * ratio  #from radian to arcsec\n",
    "    dDec = (Deco - Dec) * ratio\n",
    "    l = len(dRA)\n",
    "    sigmaRA2 = RAerr**2 * (180 / 12)**2\n",
    "    sigmaDec2 = Decerr**2\n",
    "    return -0.5 * (dRA**2 / sigmaRA2 + dDec**2 / sigmaDec2).sum()\n",
    "\n",
    "\n",
    "def log_prior(theta, normal=False):\n",
    "    if normal:\n",
    "        return -0.5 * np.sum((theta - theta0)**2 / theta_sigma**2 +\n",
    "                             np.log(theta_sigma**2))\n",
    "    else:\n",
    "        for i in range(len(theta)):\n",
    "            if (abs((theta - theta0)[i]) > theta_sigma[i]):\n",
    "                return -np.inf\n",
    "        return 0\n",
    "\n",
    "\n",
    "def log_probability(theta, t, RAo, Deco, RAerr, Decerr):\n",
    "    lp = log_prior(theta)\n",
    "    if not np.isfinite(lp):\n",
    "        return -np.inf\n",
    "    return lp + log_likelihood(theta, t, RAo, Deco, RAerr, Decerr)"
   ]
  },
  {
   "cell_type": "code",
   "execution_count": null,
   "metadata": {
    "ExecuteTime": {
     "end_time": "2020-04-22T05:09:56.890146Z",
     "start_time": "2020-04-22T04:19:31.923775Z"
    },
    "scrolled": true
   },
   "outputs": [],
   "source": [
    "theta0 = np.array([130, 0.0224, -0.0441, RAo[0], Deco[0]])\n",
    "theta_sigma = np.array([20, 5e-3, 1e-3, arcsec / radian, arcsec / radian])\n",
    "\n",
    "pos = theta0 + theta_sigma * np.random.randn(10, 5) / 3\n",
    "nwalkers, ndim = pos.shape\n",
    "\n",
    "sampler = emcee.EnsembleSampler(nwalkers,\n",
    "                                ndim,\n",
    "                                log_probability,\n",
    "                                args=(t.reshape(8, 1), RAo.reshape(8, 1),\n",
    "                                      Deco.reshape(8, 1), RAerr.reshape(8, 1),\n",
    "                                      Decerr.reshape(8, 1)),\n",
    "                                moves=[\n",
    "                                    (emcee.moves.DEMove(), 0.2),\n",
    "                                    (emcee.moves.DESnookerMove(), 0.8),\n",
    "                                ])\n",
    "sampler.run_mcmc(pos, 100000, progress=True)"
   ]
  },
  {
   "cell_type": "code",
   "execution_count": null,
   "metadata": {
    "ExecuteTime": {
     "end_time": "2020-04-22T05:12:25.853422Z",
     "start_time": "2020-04-22T05:12:23.895023Z"
    }
   },
   "outputs": [],
   "source": [
    "fig, axes = plt.subplots(5, figsize=(20, 20), sharex=True)\n",
    "Nburn = 80000\n",
    "samples = sampler.get_chain(discard=Nburn)\n",
    "labels = [\"D (pc)\", \"mua* (arcsec/yr)\", \"mud (arcsec/yr)\", \"ras0 (deg)\", \"decs0 (deg)\"]\n",
    "for i in range(ndim):\n",
    "    ax = axes[i]\n",
    "    ax.plot(samples[:, :, i], \"k\", alpha=0.3)\n",
    "    ax.set_xlim(0, len(samples))\n",
    "    ax.set_ylabel(labels[i])\n",
    "    ax.yaxis.set_label_coords(-0.05, 0.5)\n",
    "\n",
    "axes[-1].set_xlabel(\"step number\")\n",
    "fig.tight_layout()"
   ]
  },
  {
   "cell_type": "markdown",
   "metadata": {},
   "source": [
    "在选定的 50000 步模拟中，burn-in 过程占了相当长的时间，这暗示在现有的时间/计算资源的条件下，MCMC 采样可能并没有收敛到准确值。我们取 10000 步以后的结果绘制边缘分布图："
   ]
  },
  {
   "cell_type": "code",
   "execution_count": null,
   "metadata": {
    "ExecuteTime": {
     "end_time": "2020-04-22T05:12:39.131988Z",
     "start_time": "2020-04-22T05:12:37.432931Z"
    }
   },
   "outputs": [],
   "source": [
    "import corner\n",
    "\n",
    "flat_samples = sampler.get_chain(discard=Nburn, thin=15, flat=True)\n",
    "print(flat_samples.shape)\n",
    "\n",
    "fig = corner.corner(flat_samples, labels=labels)"
   ]
  },
  {
   "cell_type": "markdown",
   "metadata": {},
   "source": [
    "据此可以利用后验分布估计我们需要的几个物理量和相应的 $\\chi^2$，并作图对比模型和观测数据。"
   ]
  },
  {
   "cell_type": "code",
   "execution_count": null,
   "metadata": {
    "ExecuteTime": {
     "end_time": "2020-04-22T05:12:44.689353Z",
     "start_time": "2020-04-22T05:12:44.667761Z"
    }
   },
   "outputs": [],
   "source": [
    "from IPython.display import display, Math\n",
    "\n",
    "#Distance\n",
    "mcmc = np.percentile(flat_samples[:, 0], [16, 50, 84])\n",
    "q = np.diff(mcmc)\n",
    "txt = \"\\mathrm{{{3}}} = {0:.1f}_{{-{1:.1f}}}^{{{2:.1f}}}\"\n",
    "txt = txt.format(mcmc[1], q[0], q[1], labels[0])\n",
    "display(Math(txt))\n",
    "\n",
    "#Proper motion\n",
    "for i in [1,2]:\n",
    "    mcmc = np.percentile(flat_samples[:, i], [16, 50, 84])\n",
    "    q = np.diff(mcmc)\n",
    "    txt = \"\\mathrm{{{3}}} = {0:.4f}_{{-{1:.4f}}}^{{{2:.4f}}}\"\n",
    "    txt = txt.format(mcmc[1], q[0], q[1], labels[i])\n",
    "    display(Math(txt))\n",
    "    \n",
    "theta_fit = np.array([])\n",
    "for i in range(ndim):\n",
    "    theta_fit = np.append(theta_fit, np.percentile(flat_samples[:, i], [50]))"
   ]
  },
  {
   "cell_type": "code",
   "execution_count": null,
   "metadata": {
    "ExecuteTime": {
     "end_time": "2020-04-22T05:12:47.037367Z",
     "start_time": "2020-04-22T05:12:47.027790Z"
    }
   },
   "outputs": [],
   "source": [
    "ll = log_likelihood(theta_fit, t, RAo, Deco, RAerr, Decerr)\n",
    "chi2 = -2*ll\n",
    "chi2"
   ]
  },
  {
   "cell_type": "markdown",
   "metadata": {},
   "source": [
    "### RA v.s. Dec"
   ]
  },
  {
   "cell_type": "code",
   "execution_count": null,
   "metadata": {
    "ExecuteTime": {
     "end_time": "2020-04-22T05:13:22.857483Z",
     "start_time": "2020-04-22T05:13:22.629795Z"
    }
   },
   "outputs": [],
   "source": [
    "theta = np.array([])\n",
    "for i in range(ndim):\n",
    "    theta = np.append(theta, np.percentile(flat_samples[:, i], 50))\n",
    "D_fit, mua_fit, mud_fit, ra0_fit, dec0_fit = theta\n",
    "RA, Dec = RA_Dec(theta, t=t)\n",
    "\n",
    "plt.figure(figsize=(8, 12))\n",
    "plt.scatter((RA - RAo[0]) * radian / arcsec * 1000,\n",
    "            (Dec - Deco[0]) * radian / arcsec * 1000,\n",
    "            label='Model')\n",
    "plt.errorbar((RAo - RAo[0]) * radian / arcsec * 1000,\n",
    "             (Deco - Deco[0]) * radian / arcsec * 1000,\n",
    "             xerr=(180 / 12) * RAerr,\n",
    "             yerr=Decerr,\n",
    "             fmt='o',\n",
    "             color='k',\n",
    "             label=\"Obs\")\n",
    "plt.xlabel(r'$\\Delta$RA (mas)')\n",
    "plt.ylabel(r'$\\Delta$Dec (mas)')\n",
    "plt.axis('equal')\n",
    "plt.legend()\n",
    "plt.show()"
   ]
  },
  {
   "cell_type": "markdown",
   "metadata": {},
   "source": [
    "### 扣去自行后的赤经/赤纬变化"
   ]
  },
  {
   "cell_type": "code",
   "execution_count": null,
   "metadata": {
    "ExecuteTime": {
     "end_time": "2020-04-22T01:57:18.588383Z",
     "start_time": "2020-04-22T01:57:17.993011Z"
    }
   },
   "outputs": [],
   "source": [
    "f, ax = plt.subplots(2, 1, figsize=(10, 8), sharex='all', sharey='all')\n",
    "ax[0].scatter(t - TP,\n",
    "              (RA - mua_fit / yr *\n",
    "               (t - TP) / 3600 * np.pi / 180 - ra0_fit) * 1000 * radian /\n",
    "              arcsec,\n",
    "              label='Model')\n",
    "ax[1].scatter(t - TP,\n",
    "              (Dec - mud_fit / yr * (t - TP) / 3600 * np.pi / 180 - dec0_fit) *\n",
    "              1000 * radian / arcsec,\n",
    "              label='Model')\n",
    "ax[0].errorbar(t - TP,\n",
    "               (RAo - mua_fit / yr *\n",
    "                (t - TP) / 3600 * np.pi / 180 - ra0_fit) * 1000 * radian /\n",
    "               arcsec,\n",
    "               yerr=RAerr * 1000 * (180 / 12),\n",
    "               label='Obs', fmt='o', color='k')\n",
    "ax[1].errorbar(t - TP, (Deco - mud_fit / yr *\n",
    "                        (t - TP) / 3600 * np.pi / 180 - dec0_fit) * 1000 *\n",
    "               radian / arcsec,\n",
    "               yerr=Decerr * 1000,\n",
    "               label='Obs', fmt='o', color='k')\n",
    "ax[1].set_xlabel(r'$T-T_P$ (day)', fontsize=20)\n",
    "ax[0].set_ylabel(r'$res_{RA}$ (mas)', fontsize=20)\n",
    "ax[1].set_ylabel(r'$res_{Dec}$ (mas)', fontsize=20)\n",
    "ax[0].tick_params(labelsize=20)\n",
    "ax[1].tick_params(labelsize=20)\n",
    "f.tight_layout()\n",
    "ax[0].legend()\n",
    "ax[1].legend()"
   ]
  },
  {
   "cell_type": "markdown",
   "metadata": {},
   "source": [
    "### 残差图"
   ]
  },
  {
   "cell_type": "code",
   "execution_count": null,
   "metadata": {
    "ExecuteTime": {
     "end_time": "2020-04-22T01:57:31.450247Z",
     "start_time": "2020-04-22T01:57:31.013173Z"
    }
   },
   "outputs": [],
   "source": [
    "f, ax = plt.subplots(2, 1, figsize=(10, 8), sharex='all', sharey='all')\n",
    "ax[0].scatter(t - TP, (RA - RAo)*1000*radian/arcsec)\n",
    "ax[1].scatter(t - TP, (Dec - Deco)*1000*radian/arcsec)\n",
    "ax[1].set_xlabel(r'$T-T_P$ (day)', fontsize=20)\n",
    "ax[0].set_ylabel(r'$res_{RA}$ (mas)', fontsize=20)\n",
    "ax[1].set_ylabel(r'$res_{Dec}$ (mas)', fontsize=20)\n",
    "ax[0].tick_params(labelsize=20)\n",
    "ax[1].tick_params(labelsize=20)\n",
    "f.tight_layout()"
   ]
  },
  {
   "cell_type": "markdown",
   "metadata": {},
   "source": [
    "从 $\\chi^2$ 和上图中可以看到拟合后的残差依然很显著，MCMC 采样可能没有收敛到最终的值，但由于时间和计算资源限制，无法进行更多的计算。"
   ]
  },
  {
   "cell_type": "markdown",
   "metadata": {},
   "source": [
    "## 讨论：自行加速度"
   ]
  },
  {
   "cell_type": "markdown",
   "metadata": {},
   "source": [
    "原则上我们可以再假定两个恒定的加速度 $a_\\alpha^*$ 和 $a_\\delta$，重新进行拟合。问题在于我们一共只有 $8$ 个数据点，而模型中已经有 $5$ 个自由参数，若再加入 $a_\\alpha^*$ 和 $a_\\delta$ 很容易发生过拟合，因此我们不考虑含有自行加速度的模型。"
   ]
  },
  {
   "cell_type": "code",
   "execution_count": null,
   "metadata": {},
   "outputs": [],
   "source": []
  }
 ],
 "metadata": {
  "kernelspec": {
   "display_name": "Python 3",
   "language": "python",
   "name": "python3"
  },
  "language_info": {
   "codemirror_mode": {
    "name": "ipython",
    "version": 3
   },
   "file_extension": ".py",
   "mimetype": "text/x-python",
   "name": "python",
   "nbconvert_exporter": "python",
   "pygments_lexer": "ipython3",
   "version": "3.7.1"
  }
 },
 "nbformat": 4,
 "nbformat_minor": 2
}
